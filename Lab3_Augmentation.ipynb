{
  "nbformat": 4,
  "nbformat_minor": 0,
  "metadata": {
    "colab": {
      "name": "Lab3_Augmentation.ipynb",
      "provenance": [],
      "collapsed_sections": [],
      "include_colab_link": true
    },
    "kernelspec": {
      "name": "python3",
      "display_name": "Python 3"
    },
    "language_info": {
      "name": "python"
    }
  },
  "cells": [
    {
      "cell_type": "markdown",
      "metadata": {
        "id": "view-in-github",
        "colab_type": "text"
      },
      "source": [
        "<a href=\"https://colab.research.google.com/github/iamindhu/fmml_labs/blob/main/Lab3_Augmentation.ipynb\" target=\"_parent\"><img src=\"https://colab.research.google.com/assets/colab-badge.svg\" alt=\"Open In Colab\"/></a>"
      ]
    },
    {
      "cell_type": "markdown",
      "metadata": {
        "id": "w3yfry25JgZK"
      },
      "source": [
        "# Data augmentation\n",
        "\n",
        "FMML Module 1, Lab 3<br>\n",
        " Module Coordinator: Thrupthi Ann John thrupthi.ann@research.iiit.ac.in <br>\n",
        " Release date: 18 October 2021 <br>\n",
        "\n",
        " In this lab, we will see how augmentation of data samples help in improving the machine learning performance"
      ]
    },
    {
      "cell_type": "code",
      "metadata": {
        "id": "xZU8_elooqP0"
      },
      "source": [
        "import numpy as np\n",
        "import matplotlib.pyplot as plt\n",
        "from keras.datasets import mnist\n",
        "# set randomseed\n",
        "rng = np.random.default_rng(seed=42)\n",
        "from sklearn.utils.extmath import cartesian\n",
        "from skimage.transform import rotate, AffineTransform, warp\n",
        "import math"
      ],
      "execution_count": 1,
      "outputs": []
    },
    {
      "cell_type": "markdown",
      "metadata": {
        "id": "T5pHYogSMHiE"
      },
      "source": [
        "Augmentation is useful when we have less training data available. Augmentation allows us to 'create' a larger dataset programatically. \n",
        "\n",
        "For this lab we will use a subset of MNIST that is very small, to better understand the effect of augmentation. "
      ]
    },
    {
      "cell_type": "code",
      "metadata": {
        "id": "gJvmWJ58ovx5"
      },
      "source": [
        "#loading the dataset\n",
        "(train_X, train_y), (test_X, test_y) = mnist.load_data()\n",
        "train_X = train_X/255\n",
        "test_X = test_X/255\n",
        "\n",
        "train_X = train_X[::1200,:,:].copy() # subsample. Otherwise it will take too long!\n",
        "train_y = train_y[::1200].copy() # do the same to the labels\n"
      ],
      "execution_count": 38,
      "outputs": []
    },
    {
      "cell_type": "markdown",
      "metadata": {
        "id": "8XamH6z1Rt7S"
      },
      "source": [
        "Let us borrow a few functions from the previous labs:"
      ]
    },
    {
      "cell_type": "code",
      "metadata": {
        "id": "Zk2W5_3BRLMS"
      },
      "source": [
        "def NN1(traindata, trainlabel, query):\n",
        "  diff  = traindata - query  # find the difference between features. Numpy automatically takes care of the size here \n",
        "  sq = diff*diff # square the differences\n",
        "  dist = sq.sum(1) # add up the squares\n",
        "  label = trainlabel[np.argmin(dist)] # our predicted label is the label of the training data which has the least distance from the query\n",
        "  return label\n",
        "\n",
        "def NN(traindata, trainlabel, testdata):\n",
        "  # we will run nearest neighbour for each sample in the test data \n",
        "  # and collect the predicted classes in an array using list comprehension\n",
        "  traindata = traindata.reshape(-1, 28*28)\n",
        "  testdata = testdata.reshape(-1,28*28)\n",
        "  predlabel = np.array([NN1(traindata, trainlabel, i) for i in testdata])\n",
        "  return predlabel\n",
        "\n",
        "def Accuracy(gtlabel, predlabel):\n",
        "  assert len(gtlabel)==len(predlabel), \"Length of the groundtruth labels and predicted labels should be the same\"\n",
        "  correct = (gtlabel==predlabel).sum() # count the number of times the groundtruth label is equal to the predicted label.\n",
        "  return correct/len(gtlabel)"
      ],
      "execution_count": 3,
      "outputs": []
    },
    {
      "cell_type": "markdown",
      "metadata": {
        "id": "eGiA3LmDSJZo"
      },
      "source": [
        "In this lab, we will use the image pixels themselves as features, instead of extracting features. Each image has 28*28 pixels, so we will flatten them to 784 pixels to use as features. Note that this is very compute intensive and will take a long time.<br>\n",
        "\n",
        "Let us check the baseline accuracy on the test set without any augmentations. We hope that adding augmentations will help us to get better results."
      ]
    },
    {
      "cell_type": "code",
      "metadata": {
        "id": "4tQvnoasRNEV",
        "colab": {
          "base_uri": "https://localhost:8080/"
        },
        "outputId": "fd77e28b-8079-4cbc-95f7-c877234550f0"
      },
      "source": [
        "testpred = NN(train_X, train_y, test_X)\n",
        "print('Baseline accuracy without augmentation is ', Accuracy(test_y, testpred))"
      ],
      "execution_count": 4,
      "outputs": [
        {
          "output_type": "stream",
          "name": "stdout",
          "text": [
            "Baseline accuracy without augmentation is  0.6472\n"
          ]
        }
      ]
    },
    {
      "cell_type": "markdown",
      "metadata": {
        "id": "ZfkcMfhIZQ7U"
      },
      "source": [
        "Let us try to improve this accuracy using augmentations. When we create augmentations, we have to make sure that the changes reflect what will naturally occur in the dataset. For example, we should not add colour to our samples as an augmentation because they do not naturally occur. We should not also flip the images in MNIST, because flipped images have different meanings for digits. \n",
        "\n",
        "### Augmentation 1: rotation\n",
        "\n",
        "Let us try rotating the image a little. We will use skimage library for this. "
      ]
    },
    {
      "cell_type": "code",
      "metadata": {
        "id": "z5WolJ9fZE7L",
        "colab": {
          "base_uri": "https://localhost:8080/",
          "height": 530
        },
        "outputId": "7e423237-5b8f-423f-d121-2b76164e7248"
      },
      "source": [
        "plt.imshow(train_X[2], cmap='gray')\n",
        "plt.show()\n",
        "plt.imshow(rotate(train_X[2],45), cmap='gray')"
      ],
      "execution_count": 5,
      "outputs": [
        {
          "output_type": "display_data",
          "data": {
            "image/png": "[encoded data removed]",
            "text/plain": [
              "<Figure size 432x288 with 1 Axes>"
            ]
          },
          "metadata": {
            "needs_background": "light"
          }
        },
        {
          "output_type": "execute_result",
          "data": {
            "text/plain": [
              "<matplotlib.image.AxesImage at 0x7fcd9a40c290>"
            ]
          },
          "metadata": {},
          "execution_count": 5
        },
        {
          "output_type": "display_data",
          "data": {
            "image/png": "[encoded data removed]",
            "text/plain": [
              "<Figure size 432x288 with 1 Axes>"
            ]
          },
          "metadata": {
            "needs_background": "light"
          }
        }
      ]
    },
    {
      "cell_type": "markdown",
      "metadata": {
        "id": "KE33Yxgggu0c"
      },
      "source": [
        "After rotating, the the class of the image is still the same. Let us make a function to rotate multiple images by random angles. We want a slightly different image every time we run this function. So, we generate a random number between 0 and 1 and change it so that it lies between -constraint/2 and +constraint/2"
      ]
    },
    {
      "cell_type": "code",
      "metadata": {
        "id": "vyM7pUV7Reze"
      },
      "source": [
        "def augRotate(sample, angleconstraint):\n",
        "  if angleconstraint==0:\n",
        "    return sample\n",
        "  if len(sample.shape)==2:\n",
        "    sample = np.expand_dims(sample, 0)  # make sure the sample is 3 dimensional\n",
        "  angle = rng.random(len(sample)) # generate random numbers for angles\n",
        "  angle = (angle-0.5)*angleconstraint # make the random angle constrained\n",
        "  nsample = sample.copy() # preallocate the augmented array to make it faster\n",
        "  for ii in range(len(sample)):\n",
        "    nsample[ii] = rotate(sample[ii], angle[ii])\n",
        "  return np.squeeze(nsample) # take care if the input had only one sample."
      ],
      "execution_count": 6,
      "outputs": []
    },
    {
      "cell_type": "markdown",
      "metadata": {
        "id": "kDk-N5VNjar9"
      },
      "source": [
        "This function returns a slightly different image each time we call it. So we can increase the number of images in the sample by any multiple. "
      ]
    },
    {
      "cell_type": "code",
      "metadata": {
        "id": "Vw3O9zGFgI8K",
        "colab": {
          "base_uri": "https://localhost:8080/",
          "height": 414
        },
        "outputId": "edb989dd-a563-454b-f5fd-3eb23c569fa1"
      },
      "source": [
        "sample = train_X[10]\n",
        "angleconstraint = 70\n",
        "# show the original image\n",
        "plt.imshow(sample, cmap='gray')\n",
        "plt.show()\n",
        "plt.subplot(1,3,1)\n",
        "plt.imshow(augRotate(sample, angleconstraint), cmap='gray') # show an augmented image\n",
        "plt.subplot(1,3,2)\n",
        "plt.imshow(augRotate(sample, angleconstraint), cmap='gray') # show another augmented image from the same sample\n",
        "plt.subplot(1,3,3)\n",
        "plt.imshow(augRotate(sample, angleconstraint), cmap='gray') # one more image from the same sample"
      ],
      "execution_count": 7,
      "outputs": [
        {
          "output_type": "display_data",
          "data": {
            "image/png": "[encoded data removed]",
            "text/plain": [
              "<Figure size 432x288 with 1 Axes>"
            ]
          },
          "metadata": {
            "needs_background": "light"
          }
        },
        {
          "output_type": "execute_result",
          "data": {
            "text/plain": [
              "<matplotlib.image.AxesImage at 0x7fcd9a2e97d0>"
            ]
          },
          "metadata": {},
          "execution_count": 7
        },
        {
          "output_type": "display_data",
          "data": {
            "image/png": "[encoded data removed]",
            "text/plain": [
              "<Figure size 432x288 with 3 Axes>"
            ]
          },
          "metadata": {
            "needs_background": "light"
          }
        }
      ]
    },
    {
      "cell_type": "markdown",
      "metadata": {
        "id": "ytv3NxF-kgxN"
      },
      "source": [
        "Let us augment the whole dataset and see if this improves the test accuracy"
      ]
    },
    {
      "cell_type": "code",
      "metadata": {
        "id": "iNzNAoDBkRzj",
        "colab": {
          "base_uri": "https://localhost:8080/"
        },
        "outputId": "2cb2d735-ec0d-4083-f6b6-99620007f1dd"
      },
      "source": [
        "# hyperparameters\n",
        "angleconstraint = 60\n",
        "naugmentations = 5\n",
        "\n",
        "# augment\n",
        "augdata = train_X # we include the original images also in the augmented dataset\n",
        "auglabel = train_y\n",
        "for ii in range(naugmentations):\n",
        "  augdata = np.concatenate((augdata, augRotate(train_X, angleconstraint))) # concatenate the augmented data to the set\n",
        "  auglabel = np.concatenate((auglabel, train_y))  # the labels don't change when we augment\n",
        "\n",
        "# check the test accuracy\n",
        "testpred = NN(augdata, auglabel, test_X)\n",
        "print('Accuracy after rotation augmentation is ', Accuracy(test_y, testpred))"
      ],
      "execution_count": 11,
      "outputs": [
        {
          "output_type": "stream",
          "name": "stdout",
          "text": [
            "Accuracy after rotation augmentation is  0.6556\n"
          ]
        }
      ]
    },
    {
      "cell_type": "markdown",
      "metadata": {
        "id": "E88Nt9s1p5R6"
      },
      "source": [
        "The angle constraint is a hyperparameter which we have to tune using a validation set. (Here we are not doing that for time constraints). Let us try a grid search to find the best angle constraint."
      ]
    },
    {
      "cell_type": "code",
      "metadata": {
        "id": "aiaFRLREmGp6",
        "colab": {
          "base_uri": "https://localhost:8080/"
        },
        "outputId": "d96ab61c-2350-4491-f907-65b907ecd3ab"
      },
      "source": [
        "angleconstraints = [0,10,20,30,40,50,60,70,80,90] # the values we want to test\n",
        "accuracies = np.zeros(len(angleconstraints), dtype=np.float) # we will save the values here\n",
        "\n",
        "for ii in range(len(angleconstraints)):\n",
        "  # create the augmented dataset\n",
        "  augdata = train_X # we include the original images also in the augmented dataset\n",
        "  auglabel = train_y\n",
        "  for jj in range(naugmentations):\n",
        "    augdata = np.concatenate((augdata, augRotate(train_X, angleconstraints[ii]))) # concatenate the augmented data to the set\n",
        "    auglabel = np.concatenate((auglabel, train_y))  # the labels don't change when we augment\n",
        "\n",
        "  # check the test accuracy\n",
        "  testpred = NN(augdata, auglabel, test_X)\n",
        "  accuracies[ii] = Accuracy(test_y, testpred)\n",
        "  print('Accuracy after rotation augmentation constrained by ',angleconstraints[ii], ' is ', accuracies[ii], flush=True)"
      ],
      "execution_count": 12,
      "outputs": [
        {
          "output_type": "stream",
          "name": "stdout",
          "text": [
            "Accuracy after rotation augmentation constrained by  0  is  0.6472\n",
            "Accuracy after rotation augmentation constrained by  10  is  0.6594\n",
            "Accuracy after rotation augmentation constrained by  20  is  0.6798\n",
            "Accuracy after rotation augmentation constrained by  30  is  0.6771\n",
            "Accuracy after rotation augmentation constrained by  40  is  0.6797\n",
            "Accuracy after rotation augmentation constrained by  50  is  0.6772\n",
            "Accuracy after rotation augmentation constrained by  60  is  0.6691\n",
            "Accuracy after rotation augmentation constrained by  70  is  0.6603\n",
            "Accuracy after rotation augmentation constrained by  80  is  0.6518\n",
            "Accuracy after rotation augmentation constrained by  90  is  0.652\n"
          ]
        }
      ]
    },
    {
      "cell_type": "markdown",
      "metadata": {
        "id": "2oVDRYP2rxob"
      },
      "source": [
        "Let us see the best value for angle constraint: (Ideally this should be done on validation set, not test set)"
      ]
    },
    {
      "cell_type": "code",
      "metadata": {
        "id": "LqthJa_pmMHz",
        "colab": {
          "base_uri": "https://localhost:8080/",
          "height": 309
        },
        "outputId": "42bc8d0b-901d-466e-f45e-0bd57f347b91"
      },
      "source": [
        "fig = plt.figure()\n",
        "ax = fig.add_axes([0.1, 0.1, 0.8, 0.8]) # main axes\n",
        "# plot the variation of accuracy\n",
        "ax.plot(angleconstraints, accuracies)\n",
        "ax.set_xlabel('angle')\n",
        "ax.set_ylabel('accuracy')\n",
        "# plot the maximum accuracy\n",
        "maxind = np.argmax(accuracies)\n",
        "plt.scatter(angleconstraints[maxind], accuracies[maxind], c='red')"
      ],
      "execution_count": 14,
      "outputs": [
        {
          "output_type": "execute_result",
          "data": {
            "text/plain": [
              "<matplotlib.collections.PathCollection at 0x7fcd9a097710>"
            ]
          },
          "metadata": {},
          "execution_count": 14
        },
        {
          "output_type": "display_data",
          "data": {
            "image/png": "[encoded data removed]",
            "text/plain": [
              "<Figure size 432x288 with 1 Axes>"
            ]
          },
          "metadata": {
            "needs_background": "light"
          }
        }
      ]
    },
    {
      "cell_type": "markdown",
      "metadata": {
        "id": "eJ8YuVfCuGTj"
      },
      "source": [
        "Let us try one more augmentation: shear. Here is what this looks like:"
      ]
    },
    {
      "cell_type": "code",
      "metadata": {
        "id": "pMiw46NLwssK"
      },
      "source": [
        "def shear(sample, amount):\n",
        "  tform = AffineTransform(shear = amount) # create the shear transform\n",
        "  img = warp(sample, tform) # apply the shear\n",
        "  # this makes the digit off-center. Since all the images in the test set are centralized, we will do the same here\n",
        "  col = img.sum(0).nonzero()[0]\n",
        "  row = img.sum(1).nonzero()[0]\n",
        "  if len(col)>0 and len(row)>0:\n",
        "    xshift = int(sample.shape[0]/2 - (row[0]+row[-1])/2)\n",
        "    yshift = int(sample.shape[1]/2 - (col[0]+col[-1])/2)\n",
        "    img = np.roll(img, (xshift, yshift),(0,1))\n",
        "  return img"
      ],
      "execution_count": 15,
      "outputs": []
    },
    {
      "cell_type": "code",
      "metadata": {
        "id": "4_u_EYpmnABK",
        "colab": {
          "base_uri": "https://localhost:8080/",
          "height": 530
        },
        "outputId": "8f4f9e16-f9bd-4494-ad3c-bc4794df4c5c"
      },
      "source": [
        "sample = train_X[2]\n",
        "plt.imshow(sample, cmap='gray')\n",
        "plt.show()\n",
        "\n",
        "# apply shear\n",
        "plt.imshow(shear(sample, 0.4), cmap='gray')"
      ],
      "execution_count": 16,
      "outputs": [
        {
          "output_type": "display_data",
          "data": {
            "image/png": "[encoded data removed]",
            "text/plain": [
              "<Figure size 432x288 with 1 Axes>"
            ]
          },
          "metadata": {
            "needs_background": "light"
          }
        },
        {
          "output_type": "execute_result",
          "data": {
            "text/plain": [
              "<matplotlib.image.AxesImage at 0x7fcd99f56310>"
            ]
          },
          "metadata": {},
          "execution_count": 16
        },
        {
          "output_type": "display_data",
          "data": {
            "image/png": "[encoded data removed]",
            "text/plain": [
              "<Figure size 432x288 with 1 Axes>"
            ]
          },
          "metadata": {
            "needs_background": "light"
          }
        }
      ]
    },
    {
      "cell_type": "markdown",
      "metadata": {
        "id": "lGnWMoyM2pK4"
      },
      "source": [
        "Create an augmentation function which applies a random shear according to the constraint we provide:"
      ]
    },
    {
      "cell_type": "code",
      "metadata": {
        "id": "-qLDJyGytwP5"
      },
      "source": [
        "def augShear(sample, shearconstraint):\n",
        "  if shearconstraint==0:\n",
        "    return sample\n",
        "  if len(sample.shape)==2:\n",
        "    sample = np.expand_dims(sample, 0)  # make sure the sample is 3 dimensional\n",
        "  amt = rng.random(len(sample)) # generate random numbers for shear\n",
        "  amt = (amt-0.5)*shearconstraint # make the random shear constrained\n",
        "  nsample = sample.copy() # preallocate the augmented array to make it faster\n",
        "  for ii in range(len(sample)):\n",
        "    nsample[ii] = shear(sample[ii], amt[ii])\n",
        "  return np.squeeze(nsample) # take care if the input had only one sample."
      ],
      "execution_count": 17,
      "outputs": []
    },
    {
      "cell_type": "markdown",
      "metadata": {
        "id": "s6lQcWW93suJ"
      },
      "source": [
        "Let us do a grid search to find the best shear constraint."
      ]
    },
    {
      "cell_type": "code",
      "metadata": {
        "id": "l_wrqPkrzBb_",
        "colab": {
          "base_uri": "https://localhost:8080/"
        },
        "outputId": "c54ab015-884f-41d8-f3c0-da9a48261082"
      },
      "source": [
        "shearconstraints = [0, 0.2,0.4,0.6,0.8,1.0,1.2,1.4,1.6,1.8,2.0] # the values we want to test\n",
        "accuracies = np.zeros(len(shearconstraints), dtype=np.float) # we will save the values here\n",
        "\n",
        "for ii in range(len(shearconstraints)):\n",
        "  # create the augmented dataset\n",
        "  augdata = train_X # we include the original images also in the augmented dataset\n",
        "  auglabel = train_y\n",
        "  for jj in range(naugmentations):\n",
        "    augdata = np.concatenate((augdata, augShear(train_X, shearconstraints[ii]))) # concatenate the augmented data to the set\n",
        "    auglabel = np.concatenate((auglabel, train_y))  # the labels don't change when we augment\n",
        "\n",
        "  # check the test accuracy\n",
        "  testpred = NN(augdata, auglabel, test_X)\n",
        "  accuracies[ii] = Accuracy(test_y, testpred)\n",
        "  print('Accuracy after shear augmentation constrained by ',shearconstraints[ii], ' is ', accuracies[ii], flush=True)"
      ],
      "execution_count": 18,
      "outputs": [
        {
          "output_type": "stream",
          "name": "stdout",
          "text": [
            "Accuracy after shear augmentation constrained by  0  is  0.6472\n",
            "Accuracy after shear augmentation constrained by  0.2  is  0.6129\n",
            "Accuracy after shear augmentation constrained by  0.4  is  0.6258\n",
            "Accuracy after shear augmentation constrained by  0.6  is  0.6467\n",
            "Accuracy after shear augmentation constrained by  0.8  is  0.6482\n",
            "Accuracy after shear augmentation constrained by  1.0  is  0.6375\n",
            "Accuracy after shear augmentation constrained by  1.2  is  0.6428\n",
            "Accuracy after shear augmentation constrained by  1.4  is  0.6274\n",
            "Accuracy after shear augmentation constrained by  1.6  is  0.6525\n",
            "Accuracy after shear augmentation constrained by  1.8  is  0.6397\n",
            "Accuracy after shear augmentation constrained by  2.0  is  0.6225\n"
          ]
        }
      ]
    },
    {
      "cell_type": "code",
      "metadata": {
        "id": "EKaH-YR-zVnA",
        "colab": {
          "base_uri": "https://localhost:8080/",
          "height": 309
        },
        "outputId": "00f734a9-8781-49c4-f466-284d997e104c"
      },
      "source": [
        "fig = plt.figure()\n",
        "ax = fig.add_axes([0.1, 0.1, 0.8, 0.8]) # main axes\n",
        "# plot the variation of accuracy\n",
        "ax.plot(shearconstraints, accuracies)\n",
        "ax.set_xlabel('angle')\n",
        "ax.set_ylabel('accuracy')\n",
        "# plot the maximum accuracy\n",
        "maxind = np.argmax(accuracies)\n",
        "plt.scatter(shearconstraints[maxind], accuracies[maxind], c='red')"
      ],
      "execution_count": 19,
      "outputs": [
        {
          "output_type": "execute_result",
          "data": {
            "text/plain": [
              "<matplotlib.collections.PathCollection at 0x7fcd99ed87d0>"
            ]
          },
          "metadata": {},
          "execution_count": 19
        },
        {
          "output_type": "display_data",
          "data": {
            "image/png": "[encoded data removed]",
            "text/plain": [
              "<Figure size 432x288 with 1 Axes>"
            ]
          },
          "metadata": {
            "needs_background": "light"
          }
        }
      ]
    },
    {
      "cell_type": "markdown",
      "metadata": {
        "id": "ccfdbRcQ7Zgg"
      },
      "source": [
        "We can do multiple augmentations at the same time. Here is a function to do both shear and rotation to the sample. In this case, we will have two hyperparameters. "
      ]
    },
    {
      "cell_type": "code",
      "metadata": {
        "id": "sh8S_Pxa0XCv"
      },
      "source": [
        "def augRotateShear(sample, angleconstraint, shearconstraint):\n",
        "  if len(sample.shape)==2:\n",
        "    sample = np.expand_dims(sample, 0)  # make sure the sample is 3 dimensional\n",
        "  amt = rng.random(len(sample)) # generate random numbers for shear\n",
        "  amt = (amt-0.5)*shearconstraint # make the random shear constrained\n",
        "  angle = rng.random(len(sample)) # generate random numbers for angles\n",
        "  angle = (angle-0.5)*angleconstraint # make the random angle constrained\n",
        "  nsample = sample.copy() # preallocate the augmented array to make it faster\n",
        "  for ii in range(len(sample)):\n",
        "    nsample[ii] = rotate(shear(sample[ii], amt[ii]), angle[ii]) # first apply shear, then rotate\n",
        "  return np.squeeze(nsample) # take care if the input had only one sample."
      ],
      "execution_count": 20,
      "outputs": []
    },
    {
      "cell_type": "markdown",
      "metadata": {
        "id": "OGKyjjNx-NQ4"
      },
      "source": [
        "Since we have two hyperparameters, we have to do the grid search on a 2 dimensional matrix. We can use our previous experience to inform where to search for the best hyperparameters. "
      ]
    },
    {
      "cell_type": "code",
      "metadata": {
        "id": "TJC45WRg0pOP",
        "colab": {
          "base_uri": "https://localhost:8080/"
        },
        "outputId": "6a602718-14a1-4698-ada9-2f3240de3d93"
      },
      "source": [
        "shearconstraints = [0, 0.2,0.4,0.6,0.8,1.0,1.2,1.4,1.6] # the values we want to test\n",
        "angleconstraints = [0,10,20,30,40,50,60] # the values we want to test\n",
        "hyp = cartesian((shearconstraints, angleconstraints)) # cartesian product of both\n",
        "\n",
        "accuracies = np.zeros(len(hyp), dtype=np.float) # we will save the values here\n",
        "\n",
        "for ii in range(len(hyp)):\n",
        "  # create the augmented dataset\n",
        "  augdata = train_X # we include the original images also in the augmented dataset\n",
        "  auglabel = train_y\n",
        "  for jj in range(naugmentations):\n",
        "    augdata = np.concatenate((augdata, augRotateShear(train_X, hyp[ii][0], hyp[ii][1]))) # concatenate the augmented data to the set\n",
        "    auglabel = np.concatenate((auglabel, train_y))  # the labels don't change when we augment\n",
        "\n",
        "  # check the test accuracy\n",
        "  testpred = NN(augdata, auglabel, test_X)\n",
        "  accuracies[ii] = Accuracy(test_y, testpred)\n",
        "  print('Accuracy after augmentation shear:',hyp[ii][0], 'angle:',hyp[ii][1], ' is ', accuracies[ii], flush=True)"
      ],
      "execution_count": 21,
      "outputs": [
        {
          "output_type": "stream",
          "name": "stdout",
          "text": [
            "Accuracy after augmentation shear: 0.0 angle: 0.0  is  0.6332\n",
            "Accuracy after augmentation shear: 0.0 angle: 10.0  is  0.5955\n",
            "Accuracy after augmentation shear: 0.0 angle: 20.0  is  0.6101\n",
            "Accuracy after augmentation shear: 0.0 angle: 30.0  is  0.6082\n",
            "Accuracy after augmentation shear: 0.0 angle: 40.0  is  0.6254\n",
            "Accuracy after augmentation shear: 0.0 angle: 50.0  is  0.6057\n",
            "Accuracy after augmentation shear: 0.0 angle: 60.0  is  0.5715\n",
            "Accuracy after augmentation shear: 0.2 angle: 0.0  is  0.6341\n",
            "Accuracy after augmentation shear: 0.2 angle: 10.0  is  0.5982\n",
            "Accuracy after augmentation shear: 0.2 angle: 20.0  is  0.5946\n",
            "Accuracy after augmentation shear: 0.2 angle: 30.0  is  0.6312\n",
            "Accuracy after augmentation shear: 0.2 angle: 40.0  is  0.6085\n",
            "Accuracy after augmentation shear: 0.2 angle: 50.0  is  0.6214\n",
            "Accuracy after augmentation shear: 0.2 angle: 60.0  is  0.5856\n",
            "Accuracy after augmentation shear: 0.4 angle: 0.0  is  0.6339\n",
            "Accuracy after augmentation shear: 0.4 angle: 10.0  is  0.5792\n",
            "Accuracy after augmentation shear: 0.4 angle: 20.0  is  0.5958\n",
            "Accuracy after augmentation shear: 0.4 angle: 30.0  is  0.5975\n",
            "Accuracy after augmentation shear: 0.4 angle: 40.0  is  0.5831\n",
            "Accuracy after augmentation shear: 0.4 angle: 50.0  is  0.6045\n",
            "Accuracy after augmentation shear: 0.4 angle: 60.0  is  0.6027\n",
            "Accuracy after augmentation shear: 0.6 angle: 0.0  is  0.6335\n",
            "Accuracy after augmentation shear: 0.6 angle: 10.0  is  0.5992\n",
            "Accuracy after augmentation shear: 0.6 angle: 20.0  is  0.5893\n",
            "Accuracy after augmentation shear: 0.6 angle: 30.0  is  0.6144\n",
            "Accuracy after augmentation shear: 0.6 angle: 40.0  is  0.5933\n",
            "Accuracy after augmentation shear: 0.6 angle: 50.0  is  0.623\n",
            "Accuracy after augmentation shear: 0.6 angle: 60.0  is  0.608\n",
            "Accuracy after augmentation shear: 0.8 angle: 0.0  is  0.6339\n",
            "Accuracy after augmentation shear: 0.8 angle: 10.0  is  0.5726\n",
            "Accuracy after augmentation shear: 0.8 angle: 20.0  is  0.6139\n",
            "Accuracy after augmentation shear: 0.8 angle: 30.0  is  0.576\n",
            "Accuracy after augmentation shear: 0.8 angle: 40.0  is  0.6117\n",
            "Accuracy after augmentation shear: 0.8 angle: 50.0  is  0.5899\n",
            "Accuracy after augmentation shear: 0.8 angle: 60.0  is  0.583\n",
            "Accuracy after augmentation shear: 1.0 angle: 0.0  is  0.6343\n",
            "Accuracy after augmentation shear: 1.0 angle: 10.0  is  0.6226\n",
            "Accuracy after augmentation shear: 1.0 angle: 20.0  is  0.5967\n",
            "Accuracy after augmentation shear: 1.0 angle: 30.0  is  0.5957\n",
            "Accuracy after augmentation shear: 1.0 angle: 40.0  is  0.5924\n",
            "Accuracy after augmentation shear: 1.0 angle: 50.0  is  0.5919\n",
            "Accuracy after augmentation shear: 1.0 angle: 60.0  is  0.5962\n",
            "Accuracy after augmentation shear: 1.2 angle: 0.0  is  0.6342\n",
            "Accuracy after augmentation shear: 1.2 angle: 10.0  is  0.6036\n",
            "Accuracy after augmentation shear: 1.2 angle: 20.0  is  0.6011\n",
            "Accuracy after augmentation shear: 1.2 angle: 30.0  is  0.5835\n",
            "Accuracy after augmentation shear: 1.2 angle: 40.0  is  0.6229\n",
            "Accuracy after augmentation shear: 1.2 angle: 50.0  is  0.5902\n",
            "Accuracy after augmentation shear: 1.2 angle: 60.0  is  0.5989\n",
            "Accuracy after augmentation shear: 1.4 angle: 0.0  is  0.636\n",
            "Accuracy after augmentation shear: 1.4 angle: 10.0  is  0.6175\n",
            "Accuracy after augmentation shear: 1.4 angle: 20.0  is  0.6106\n",
            "Accuracy after augmentation shear: 1.4 angle: 30.0  is  0.6221\n",
            "Accuracy after augmentation shear: 1.4 angle: 40.0  is  0.6006\n",
            "Accuracy after augmentation shear: 1.4 angle: 50.0  is  0.595\n",
            "Accuracy after augmentation shear: 1.4 angle: 60.0  is  0.6057\n",
            "Accuracy after augmentation shear: 1.6 angle: 0.0  is  0.6341\n",
            "Accuracy after augmentation shear: 1.6 angle: 10.0  is  0.5861\n",
            "Accuracy after augmentation shear: 1.6 angle: 20.0  is  0.5987\n",
            "Accuracy after augmentation shear: 1.6 angle: 30.0  is  0.594\n",
            "Accuracy after augmentation shear: 1.6 angle: 40.0  is  0.5922\n",
            "Accuracy after augmentation shear: 1.6 angle: 50.0  is  0.6119\n",
            "Accuracy after augmentation shear: 1.6 angle: 60.0  is  0.58\n"
          ]
        }
      ]
    },
    {
      "cell_type": "markdown",
      "metadata": {
        "id": "PT6CnvSDEX7a"
      },
      "source": [
        "Let us plot it two dimensionally to see which is the best value for the hyperparameters:"
      ]
    },
    {
      "cell_type": "code",
      "metadata": {
        "id": "jD2i7msI_cLd",
        "colab": {
          "base_uri": "https://localhost:8080/",
          "height": 309
        },
        "outputId": "cdf4fe97-2a9c-4ceb-938e-6d47b6ef4cc8"
      },
      "source": [
        "fig = plt.figure()\n",
        "ax = fig.add_axes([0.1, 0.1, 0.8, 0.8]) # main axes\n",
        "im = ax.imshow(accuracies.reshape((len(shearconstraints), len(angleconstraints))), cmap='inferno') \n",
        "ax.set_xlabel('angle')\n",
        "ax.set_ylabel('shear')\n",
        "ax.set_xticks(np.arange(len(angleconstraints)));\n",
        "ax.set_xticklabels(angleconstraints);\n",
        "ax.set_yticks(np.arange(len(shearconstraints)));\n",
        "ax.set_yticklabels(shearconstraints);\n",
        "plt.colorbar(im)"
      ],
      "execution_count": 22,
      "outputs": [
        {
          "output_type": "execute_result",
          "data": {
            "text/plain": [
              "<matplotlib.colorbar.Colorbar at 0x7fcd99e0f210>"
            ]
          },
          "metadata": {},
          "execution_count": 22
        },
        {
          "output_type": "display_data",
          "data": {
            "image/png": "[encoded data removed]",
            "text/plain": [
              "<Figure size 432x288 with 2 Axes>"
            ]
          },
          "metadata": {
            "needs_background": "light"
          }
        }
      ]
    },
    {
      "cell_type": "markdown",
      "metadata": {
        "id": "OHcZWJiFJDMh"
      },
      "source": [
        "It seems that rotation and shear don't mix! The best accuracy is when rotation is zero."
      ]
    },
    {
      "cell_type": "markdown",
      "metadata": {
        "id": "PAasQo1C3x4A"
      },
      "source": [
        "## Questions\n",
        "Try these questions for better understanding. You may not be able to solve all of them. \n",
        "1. What is the best value for angle constraint and shear constraint you got? How much did the accuracy improve as compared to not using augmentations?\n",
        "2. Can you increase the accuracy by increasing the number of augmentations from each sample?\n",
        "3. Try implementing a few augmentations of your own and experimenting with them. A good reference is <a href=https://www.analyticsvidhya.com/blog/2019/12/image-augmentation-deep-learning-pytorch/>here. </a>\n",
        "4. Try combining various augmentations. What is the highest accuracy you can get? What is the smallest training dataset you can take and still get accuracy above 50%?\n",
        "\n",
        "Whenever you do any experiment, a good practice is to vary the hyperparameters gradually and create a graph of your results, like we did for gridsearch. "
      ]
    },
    {
      "cell_type": "markdown",
      "metadata": {
        "id": "83_EgzBGCql2"
      },
      "source": [
        "Looks like rotation of 0 degree would be the best irrespective of the shear. Even a rotation of 30 degree and shear of 0.2 seems great."
      ]
    },
    {
      "cell_type": "markdown",
      "metadata": {
        "id": "WpUdoTlWmk8k"
      },
      "source": [
        "# Different Augmentations"
      ]
    },
    {
      "cell_type": "markdown",
      "metadata": {
        "id": "S-WTilp0mrDZ"
      },
      "source": [
        "## Shifting images using affine transform"
      ]
    },
    {
      "cell_type": "code",
      "metadata": {
        "id": "mCzpwluJ46pI"
      },
      "source": [
        "from skimage.transform import AffineTransform, warp"
      ],
      "execution_count": 29,
      "outputs": []
    },
    {
      "cell_type": "code",
      "metadata": {
        "colab": {
          "base_uri": "https://localhost:8080/"
        },
        "id": "YXOgo7-En07s",
        "outputId": "c9f68f74-a592-4a02-9e96-a3761b7fcb8e"
      },
      "source": [
        "pixel = [-25, -20, -15, -10, -5, 0, 5, 10, 15, 20, 25]\n",
        "hyp = cartesian((pixel, pixel))\n",
        "accuracies = np.zeros(len(hyp), dtype=np.float)\n",
        "for ii in range(len(hyp)):\n",
        "  augdata = train_X\n",
        "  auglabel = train_y\n",
        "  transform = AffineTransform(translation=(hyp[ii][0],hyp[ii][1]))\n",
        "  wrapShift = warp(train_X, transform, mode = 'wrap')\n",
        "  for jj in range(naugmentations):\n",
        "    augdata = np.concatenate((augdata, wrapShift))\n",
        "    auglabel = np.concatenate((auglabel, train_y))\n",
        "  testpred = NN(augdata, auglabel, test_X)\n",
        "  accuracies[ii] = Accuracy(test_y, testpred)\n",
        "  print('Accuracy after augmentation shift of (', hyp[ii][0] , ',', hyp[ii][1] , ') is ', accuracies[ii], flush=True)"
      ],
      "execution_count": 53,
      "outputs": [
        {
          "output_type": "stream",
          "name": "stdout",
          "text": [
            "Accuracy after augmentation shift of ( -25 , -25 ) is  0.6284\n",
            "Accuracy after augmentation shift of ( -25 , -20 ) is  0.624\n",
            "Accuracy after augmentation shift of ( -25 , -15 ) is  0.6238\n",
            "Accuracy after augmentation shift of ( -25 , -10 ) is  0.629\n",
            "Accuracy after augmentation shift of ( -25 , -5 ) is  0.6223\n",
            "Accuracy after augmentation shift of ( -25 , 0 ) is  0.6417\n",
            "Accuracy after augmentation shift of ( -25 , 5 ) is  0.6202\n",
            "Accuracy after augmentation shift of ( -25 , 10 ) is  0.6246\n",
            "Accuracy after augmentation shift of ( -25 , 15 ) is  0.6252\n",
            "Accuracy after augmentation shift of ( -25 , 20 ) is  0.6277\n",
            "Accuracy after augmentation shift of ( -25 , 25 ) is  0.6284\n",
            "Accuracy after augmentation shift of ( -20 , -25 ) is  0.6467\n",
            "Accuracy after augmentation shift of ( -20 , -20 ) is  0.6476\n",
            "Accuracy after augmentation shift of ( -20 , -15 ) is  0.6467\n",
            "Accuracy after augmentation shift of ( -20 , -10 ) is  0.6467\n",
            "Accuracy after augmentation shift of ( -20 , -5 ) is  0.6469\n",
            "Accuracy after augmentation shift of ( -20 , 0 ) is  0.6472\n",
            "Accuracy after augmentation shift of ( -20 , 5 ) is  0.6468\n",
            "Accuracy after augmentation shift of ( -20 , 10 ) is  0.6472\n",
            "Accuracy after augmentation shift of ( -20 , 15 ) is  0.6468\n",
            "Accuracy after augmentation shift of ( -20 , 20 ) is  0.6469\n",
            "Accuracy after augmentation shift of ( -20 , 25 ) is  0.6467\n",
            "Accuracy after augmentation shift of ( -15 , -25 ) is  0.6469\n",
            "Accuracy after augmentation shift of ( -15 , -20 ) is  0.6474\n",
            "Accuracy after augmentation shift of ( -15 , -15 ) is  0.6469\n",
            "Accuracy after augmentation shift of ( -15 , -10 ) is  0.647\n",
            "Accuracy after augmentation shift of ( -15 , -5 ) is  0.647\n",
            "Accuracy after augmentation shift of ( -15 , 0 ) is  0.6471\n",
            "Accuracy after augmentation shift of ( -15 , 5 ) is  0.6469\n",
            "Accuracy after augmentation shift of ( -15 , 10 ) is  0.6469\n",
            "Accuracy after augmentation shift of ( -15 , 15 ) is  0.6469\n",
            "Accuracy after augmentation shift of ( -15 , 20 ) is  0.6469\n",
            "Accuracy after augmentation shift of ( -15 , 25 ) is  0.6469\n",
            "Accuracy after augmentation shift of ( -10 , -25 ) is  0.648\n",
            "Accuracy after augmentation shift of ( -10 , -20 ) is  0.6464\n",
            "Accuracy after augmentation shift of ( -10 , -15 ) is  0.6457\n",
            "Accuracy after augmentation shift of ( -10 , -10 ) is  0.6457\n",
            "Accuracy after augmentation shift of ( -10 , -5 ) is  0.6457\n",
            "Accuracy after augmentation shift of ( -10 , 0 ) is  0.6457\n",
            "Accuracy after augmentation shift of ( -10 , 5 ) is  0.648\n",
            "Accuracy after augmentation shift of ( -10 , 10 ) is  0.6459\n",
            "Accuracy after augmentation shift of ( -10 , 15 ) is  0.646\n",
            "Accuracy after augmentation shift of ( -10 , 20 ) is  0.648\n",
            "Accuracy after augmentation shift of ( -10 , 25 ) is  0.648\n",
            "Accuracy after augmentation shift of ( -5 , -25 ) is  0.6297\n",
            "Accuracy after augmentation shift of ( -5 , -20 ) is  0.6292\n",
            "Accuracy after augmentation shift of ( -5 , -15 ) is  0.63\n",
            "Accuracy after augmentation shift of ( -5 , -10 ) is  0.632\n",
            "Accuracy after augmentation shift of ( -5 , -5 ) is  0.6324\n",
            "Accuracy after augmentation shift of ( -5 , 0 ) is  0.6294\n",
            "Accuracy after augmentation shift of ( -5 , 5 ) is  0.6327\n",
            "Accuracy after augmentation shift of ( -5 , 10 ) is  0.6298\n",
            "Accuracy after augmentation shift of ( -5 , 15 ) is  0.6285\n",
            "Accuracy after augmentation shift of ( -5 , 20 ) is  0.6309\n",
            "Accuracy after augmentation shift of ( -5 , 25 ) is  0.6297\n",
            "Accuracy after augmentation shift of ( 0 , -25 ) is  0.6472\n",
            "Accuracy after augmentation shift of ( 0 , -20 ) is  0.6472\n",
            "Accuracy after augmentation shift of ( 0 , -15 ) is  0.6472\n",
            "Accuracy after augmentation shift of ( 0 , -10 ) is  0.6472\n",
            "Accuracy after augmentation shift of ( 0 , -5 ) is  0.6472\n",
            "Accuracy after augmentation shift of ( 0 , 0 ) is  0.6472\n",
            "Accuracy after augmentation shift of ( 0 , 5 ) is  0.6472\n",
            "Accuracy after augmentation shift of ( 0 , 10 ) is  0.6472\n",
            "Accuracy after augmentation shift of ( 0 , 15 ) is  0.6472\n",
            "Accuracy after augmentation shift of ( 0 , 20 ) is  0.6472\n",
            "Accuracy after augmentation shift of ( 0 , 25 ) is  0.6472\n",
            "Accuracy after augmentation shift of ( 5 , -25 ) is  0.6443\n",
            "Accuracy after augmentation shift of ( 5 , -20 ) is  0.6472\n",
            "Accuracy after augmentation shift of ( 5 , -15 ) is  0.6455\n",
            "Accuracy after augmentation shift of ( 5 , -10 ) is  0.6466\n",
            "Accuracy after augmentation shift of ( 5 , -5 ) is  0.6447\n",
            "Accuracy after augmentation shift of ( 5 , 0 ) is  0.6443\n",
            "Accuracy after augmentation shift of ( 5 , 5 ) is  0.6435\n",
            "Accuracy after augmentation shift of ( 5 , 10 ) is  0.6462\n",
            "Accuracy after augmentation shift of ( 5 , 15 ) is  0.6449\n",
            "Accuracy after augmentation shift of ( 5 , 20 ) is  0.6459\n",
            "Accuracy after augmentation shift of ( 5 , 25 ) is  0.6443\n",
            "Accuracy after augmentation shift of ( 10 , -25 ) is  0.6465\n",
            "Accuracy after augmentation shift of ( 10 , -20 ) is  0.6469\n",
            "Accuracy after augmentation shift of ( 10 , -15 ) is  0.6465\n",
            "Accuracy after augmentation shift of ( 10 , -10 ) is  0.6468\n",
            "Accuracy after augmentation shift of ( 10 , -5 ) is  0.6465\n",
            "Accuracy after augmentation shift of ( 10 , 0 ) is  0.6471\n",
            "Accuracy after augmentation shift of ( 10 , 5 ) is  0.6466\n",
            "Accuracy after augmentation shift of ( 10 , 10 ) is  0.6469\n",
            "Accuracy after augmentation shift of ( 10 , 15 ) is  0.6465\n",
            "Accuracy after augmentation shift of ( 10 , 20 ) is  0.6465\n",
            "Accuracy after augmentation shift of ( 10 , 25 ) is  0.6465\n",
            "Accuracy after augmentation shift of ( 15 , -25 ) is  0.6471\n",
            "Accuracy after augmentation shift of ( 15 , -20 ) is  0.6473\n",
            "Accuracy after augmentation shift of ( 15 , -15 ) is  0.6471\n",
            "Accuracy after augmentation shift of ( 15 , -10 ) is  0.6471\n",
            "Accuracy after augmentation shift of ( 15 , -5 ) is  0.6471\n",
            "Accuracy after augmentation shift of ( 15 , 0 ) is  0.6472\n",
            "Accuracy after augmentation shift of ( 15 , 5 ) is  0.6471\n",
            "Accuracy after augmentation shift of ( 15 , 10 ) is  0.6472\n",
            "Accuracy after augmentation shift of ( 15 , 15 ) is  0.6471\n",
            "Accuracy after augmentation shift of ( 15 , 20 ) is  0.6471\n",
            "Accuracy after augmentation shift of ( 15 , 25 ) is  0.6471\n",
            "Accuracy after augmentation shift of ( 20 , -25 ) is  0.6467\n",
            "Accuracy after augmentation shift of ( 20 , -20 ) is  0.6455\n",
            "Accuracy after augmentation shift of ( 20 , -15 ) is  0.6444\n",
            "Accuracy after augmentation shift of ( 20 , -10 ) is  0.6445\n",
            "Accuracy after augmentation shift of ( 20 , -5 ) is  0.6445\n",
            "Accuracy after augmentation shift of ( 20 , 0 ) is  0.6441\n",
            "Accuracy after augmentation shift of ( 20 , 5 ) is  0.6466\n",
            "Accuracy after augmentation shift of ( 20 , 10 ) is  0.6441\n",
            "Accuracy after augmentation shift of ( 20 , 15 ) is  0.6442\n",
            "Accuracy after augmentation shift of ( 20 , 20 ) is  0.6466\n",
            "Accuracy after augmentation shift of ( 20 , 25 ) is  0.6467\n",
            "Accuracy after augmentation shift of ( 25 , -25 ) is  0.6078\n",
            "Accuracy after augmentation shift of ( 25 , -20 ) is  0.6036\n",
            "Accuracy after augmentation shift of ( 25 , -15 ) is  0.6096\n",
            "Accuracy after augmentation shift of ( 25 , -10 ) is  0.6039\n",
            "Accuracy after augmentation shift of ( 25 , -5 ) is  0.6124\n",
            "Accuracy after augmentation shift of ( 25 , 0 ) is  0.6222\n",
            "Accuracy after augmentation shift of ( 25 , 5 ) is  0.6098\n",
            "Accuracy after augmentation shift of ( 25 , 10 ) is  0.6116\n",
            "Accuracy after augmentation shift of ( 25 , 15 ) is  0.6022\n",
            "Accuracy after augmentation shift of ( 25 , 20 ) is  0.6063\n",
            "Accuracy after augmentation shift of ( 25 , 25 ) is  0.6078\n"
          ]
        }
      ]
    },
    {
      "cell_type": "code",
      "metadata": {
        "colab": {
          "base_uri": "https://localhost:8080/",
          "height": 309
        },
        "id": "OkJzvEWc1tcM",
        "outputId": "14287515-e025-47e2-b6b0-97004cfecf53"
      },
      "source": [
        "fig = plt.figure()\n",
        "ax = fig.add_axes([0.1, 0.1, 0.8, 0.8]) # main axes\n",
        "im = ax.imshow(accuracies.reshape((len(pixel), len(pixel))), cmap='inferno') \n",
        "ax.set_xlabel('X Shift')\n",
        "ax.set_ylabel('Y Shift')\n",
        "ax.set_xticks(np.arange(len(pixel)));\n",
        "ax.set_xticklabels(pixel);\n",
        "ax.set_yticks(np.arange(len(pixel)));\n",
        "ax.set_yticklabels(pixel);\n",
        "plt.colorbar(im)"
      ],
      "execution_count": 55,
      "outputs": [
        {
          "output_type": "execute_result",
          "data": {
            "text/plain": [
              "<matplotlib.colorbar.Colorbar at 0x7fcd9606cd10>"
            ]
          },
          "metadata": {},
          "execution_count": 55
        },
        {
          "output_type": "display_data",
          "data": {
            "image/png": "[encoded data removed]",
            "text/plain": [
              "<Figure size 432x288 with 2 Axes>"
            ]
          },
          "metadata": {
            "needs_background": "light"
          }
        }
      ]
    },
    {
      "cell_type": "markdown",
      "metadata": {
        "id": "n69vmyaC5qPd"
      },
      "source": [
        "The accuracy does not change due to shift along X axis, but changes in small amount due to shift along Y axis. -20 shift in Y direction seems great "
      ]
    },
    {
      "cell_type": "markdown",
      "metadata": {
        "id": "NE_g9wTo2QzY"
      },
      "source": [
        "## Adding Noise\n"
      ]
    },
    {
      "cell_type": "code",
      "metadata": {
        "id": "kS8dNwvn6-50"
      },
      "source": [
        "from skimage.util import random_noise"
      ],
      "execution_count": 57,
      "outputs": []
    },
    {
      "cell_type": "code",
      "metadata": {
        "colab": {
          "base_uri": "https://localhost:8080/"
        },
        "id": "2h12jMOJ61-P",
        "outputId": "44f268ff-eced-4fb5-d46d-c9307d15c352"
      },
      "source": [
        "sigma = [0, 0.2,0.4,0.6,0.8,1.0, 1.2, 1.4, 1.6, 1.8, 2.0] # the values we want to test\n",
        "accuracies = np.zeros(len(sigma), dtype=np.float) # we will save the values here\n",
        "\n",
        "for ii in range(len(sigma)):\n",
        "  # create the augmented dataset\n",
        "  augdata = train_X # we include the original images also in the augmented dataset\n",
        "  auglabel = train_y\n",
        "  for jj in range(naugmentations):\n",
        "    augdata = np.concatenate((augdata, random_noise(train_X,var=sigma[ii]**2))) # concatenate the augmented data to the set\n",
        "    auglabel = np.concatenate((auglabel, train_y))  # the labels don't change when we augment\n",
        "\n",
        "  # check the test accuracy\n",
        "  testpred = NN(augdata, auglabel, test_X)\n",
        "  accuracies[ii] = Accuracy(test_y, testpred)\n",
        "  print('Accuracy after adding noise, sigma =  ',sigma[ii], ' is ', accuracies[ii], flush=True)"
      ],
      "execution_count": 62,
      "outputs": [
        {
          "output_type": "stream",
          "name": "stdout",
          "text": [
            "Accuracy after adding noise, sigma =   0  is  0.6472\n",
            "Accuracy after adding noise, sigma =   0.2  is  0.6496\n",
            "Accuracy after adding noise, sigma =   0.4  is  0.6472\n",
            "Accuracy after adding noise, sigma =   0.6  is  0.6472\n",
            "Accuracy after adding noise, sigma =   0.8  is  0.6472\n",
            "Accuracy after adding noise, sigma =   1.0  is  0.6472\n",
            "Accuracy after adding noise, sigma =   1.2  is  0.6472\n",
            "Accuracy after adding noise, sigma =   1.4  is  0.6472\n",
            "Accuracy after adding noise, sigma =   1.6  is  0.6472\n",
            "Accuracy after adding noise, sigma =   1.8  is  0.6472\n",
            "Accuracy after adding noise, sigma =   2.0  is  0.6472\n"
          ]
        }
      ]
    },
    {
      "cell_type": "markdown",
      "metadata": {
        "id": "okmHSrWT8WtD"
      },
      "source": [
        "By a very small amount, adding noise with standard deviation of 0.2 seems to be the best"
      ]
    },
    {
      "cell_type": "markdown",
      "metadata": {
        "id": "xdoBFbyw7wsP"
      },
      "source": [
        "## Guassian Blur"
      ]
    },
    {
      "cell_type": "code",
      "metadata": {
        "id": "BYhoxoSp7oBv"
      },
      "source": [
        "from skimage.filters import gaussian"
      ],
      "execution_count": 63,
      "outputs": []
    },
    {
      "cell_type": "code",
      "metadata": {
        "colab": {
          "base_uri": "https://localhost:8080/"
        },
        "id": "HHAEEl5V8DI2",
        "outputId": "febb66ac-a128-46f3-8ee7-0343a538d25b"
      },
      "source": [
        "sigma = [0, 0.2,0.4,0.6,0.8,1.0, 1.2, 1.4, 1.6, 1.8, 2.0] # the values we want to test\n",
        "accuracies = np.zeros(len(sigma), dtype=np.float) # we will save the values here\n",
        "\n",
        "for ii in range(len(sigma)):\n",
        "  # create the augmented dataset\n",
        "  augdata = train_X # we include the original images also in the augmented dataset\n",
        "  auglabel = train_y\n",
        "  for jj in range(naugmentations):\n",
        "    augdata = np.concatenate((augdata, gaussian(train_X,sigma=sigma[ii],multichannel=True))) # concatenate the augmented data to the set\n",
        "    auglabel = np.concatenate((auglabel, train_y))  # the labels don't change when we augment\n",
        "\n",
        "  # check the test accuracy\n",
        "  testpred = NN(augdata, auglabel, test_X)\n",
        "  accuracies[ii] = Accuracy(test_y, testpred)\n",
        "  print('Accuracy after adding gaussian blur, sigma =  ',sigma[ii], ' is ', accuracies[ii], flush=True)"
      ],
      "execution_count": 64,
      "outputs": [
        {
          "output_type": "stream",
          "name": "stdout",
          "text": [
            "Accuracy after adding gaussian blur, sigma =   0  is  0.6472\n",
            "Accuracy after adding gaussian blur, sigma =   0.2  is  0.6472\n",
            "Accuracy after adding gaussian blur, sigma =   0.4  is  0.6522\n",
            "Accuracy after adding gaussian blur, sigma =   0.6  is  0.6481\n",
            "Accuracy after adding gaussian blur, sigma =   0.8  is  0.617\n",
            "Accuracy after adding gaussian blur, sigma =   1.0  is  0.5855\n",
            "Accuracy after adding gaussian blur, sigma =   1.2  is  0.5548\n",
            "Accuracy after adding gaussian blur, sigma =   1.4  is  0.5336\n",
            "Accuracy after adding gaussian blur, sigma =   1.6  is  0.5162\n",
            "Accuracy after adding gaussian blur, sigma =   1.8  is  0.5028\n",
            "Accuracy after adding gaussian blur, sigma =   2.0  is  0.4986\n"
          ]
        }
      ]
    },
    {
      "cell_type": "markdown",
      "metadata": {
        "id": "KTjEAEk-8p6V"
      },
      "source": [
        "Blurring seems to have a negative impact, so applying no blur is the best in this case."
      ]
    },
    {
      "cell_type": "code",
      "metadata": {
        "colab": {
          "base_uri": "https://localhost:8080/"
        },
        "id": "rZvNz_kO8Vb9",
        "outputId": "ae0203ee-4307-4db5-838e-86d6fce8b76e"
      },
      "source": [
        "augdata = train_X\n",
        "auglabel = train_y\n",
        "for jj in range(naugmentations):\n",
        "  augdata = np.concatenate((augdata, augRotate(train_X, 40))) # concatenate the augmented data to the set\n",
        "  auglabel = np.concatenate((auglabel, train_y))\n",
        "  augdata = np.concatenate((augdata, augShear(train_X, 0.8)))\n",
        "  auglabel = np.concatenate((auglabel, train_y))\n",
        "  transform = AffineTransform(translation=(-20,-20))\n",
        "  augdata = np.concatenate((augdata, warp(train_X, transform, mode = 'wrap')))\n",
        "  auglabel = np.concatenate((auglabel, train_y))\n",
        "  augdata = np.concatenate((augdata, random_noise(train_X,var=0.2**2)))\n",
        "  auglabel = np.concatenate((auglabel, train_y)) \n",
        "testpred = NN(augdata, auglabel, test_X)\n",
        "best_accuracy = Accuracy(test_y, testpred)\n",
        "print('Accuray after applying the best of all transformations is', best_accuracy, flush=True)"
      ],
      "execution_count": 70,
      "outputs": [
        {
          "output_type": "stream",
          "name": "stdout",
          "text": [
            "Accuray after applying the best of all transformations is 0.6885\n"
          ]
        }
      ]
    },
    {
      "cell_type": "markdown",
      "metadata": {
        "id": "1mrYcLA3ACN8"
      },
      "source": [
        "After applying the best of all augmentations - rotation by 40 degrees, a shear of 0.8, translation of (-20, -20), and noise with deviation 0.2 we get an accuracy of 0.6885, which is indeed the best that we could get"
      ]
    },
    {
      "cell_type": "markdown",
      "metadata": {
        "id": "ddivUIsFAp9H"
      },
      "source": [
        "## Increasing number of augmentations"
      ]
    },
    {
      "cell_type": "code",
      "metadata": {
        "id": "tGtMh2OFA2_g"
      },
      "source": [
        "augs = [5, 10, 15, 20, 25, 30, 35, 40, 45, 50, 55, 60, 65, 70, 75, 80, 85, 90, 95, 100] # the values we want to test\n",
        "accuracies = np.zeros(len(sigma), dtype=np.float) # we will save the values here\n",
        "\n",
        "for ii in range(len(augs)):\n",
        "  # create the augmented dataset\n",
        "  augdata = train_X # we include the original images also in the augmented dataset\n",
        "  auglabel = train_y\n",
        "  for jj in range(ii):\n",
        "    augdata = np.concatenate((augdata, augRotate(train_X, 40))) # concatenate the augmented data to the set\n",
        "    auglabel = np.concatenate((auglabel, train_y))\n",
        "    augdata = np.concatenate((augdata, augShear(train_X, 0.8)))\n",
        "    auglabel = np.concatenate((auglabel, train_y))\n",
        "    transform = AffineTransform(translation=(-20,-20))\n",
        "    augdata = np.concatenate((augdata, warp(train_X, transform, mode = 'wrap')))\n",
        "    auglabel = np.concatenate((auglabel, train_y))\n",
        "    augdata = np.concatenate((augdata, random_noise(train_X,var=0.2**2)))\n",
        "    auglabel = np.concatenate((auglabel, train_y)) \n",
        "  testpred = NN(augdata, auglabel, test_X)\n",
        "  accuracies[ii] = Accuracy(test_y, testpred)\n",
        "  print('Accuracy with ',augs[ii], ' augmentations is ', accuracies[ii], flush=True)"
      ],
      "execution_count": null,
      "outputs": []
    },
    {
      "cell_type": "code",
      "metadata": {
        "colab": {
          "base_uri": "https://localhost:8080/",
          "height": 309
        },
        "id": "RjVT26BnBj3o",
        "outputId": "cd332533-4e51-427b-a117-0aab53f5b567"
      },
      "source": [
        "fig = plt.figure()\n",
        "ax = fig.add_axes([0.1, 0.1, 0.8, 0.8]) # main axes\n",
        "# plot the variation of accuracy\n",
        "ax.plot(augs[0:11], accuracies)\n",
        "ax.set_xlabel('Number of augmentations')\n",
        "ax.set_ylabel('Accuray')\n",
        "# plot the maximum accuracy\n",
        "maxind = np.argmax(accuracies)\n",
        "plt.scatter(augs[maxind], accuracies[maxind], c='red')"
      ],
      "execution_count": 78,
      "outputs": [
        {
          "output_type": "execute_result",
          "data": {
            "text/plain": [
              "<matplotlib.collections.PathCollection at 0x7fcd93a1b910>"
            ]
          },
          "metadata": {},
          "execution_count": 78
        },
        {
          "output_type": "display_data",
          "data": {
            "image/png": "[encoded data removed]",
            "text/plain": [
              "<Figure size 432x288 with 1 Axes>"
            ]
          },
          "metadata": {
            "needs_background": "light"
          }
        }
      ]
    },
    {
      "cell_type": "markdown",
      "metadata": {
        "id": "oRvywlx6EaJe"
      },
      "source": [
        "Increasing iterations seems beneficial only up to certain extent. After aroun 45 augmentations, the accuracy seems to decrease."
      ]
    },
    {
      "cell_type": "code",
      "metadata": {
        "id": "EpJ70boBCMT9"
      },
      "source": [
        ""
      ],
      "execution_count": null,
      "outputs": []
    }
  ]
}